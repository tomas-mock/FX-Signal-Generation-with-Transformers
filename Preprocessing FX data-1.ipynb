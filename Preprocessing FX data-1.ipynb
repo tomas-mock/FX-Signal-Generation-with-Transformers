{
 "cells": [
  {
   "cell_type": "code",
   "execution_count": 2,
   "metadata": {},
   "outputs": [],
   "source": [
    "import pandas as pd\n",
    "import numpy as np"
   ]
  },
  {
   "cell_type": "markdown",
   "metadata": {},
   "source": [
    "# 1 hour resampling"
   ]
  },
  {
   "cell_type": "code",
   "execution_count": null,
   "metadata": {},
   "outputs": [
    {
     "data": {
      "text/html": [
       "<div>\n",
       "<style scoped>\n",
       "    .dataframe tbody tr th:only-of-type {\n",
       "        vertical-align: middle;\n",
       "    }\n",
       "\n",
       "    .dataframe tbody tr th {\n",
       "        vertical-align: top;\n",
       "    }\n",
       "\n",
       "    .dataframe thead th {\n",
       "        text-align: right;\n",
       "    }\n",
       "</style>\n",
       "<table border=\"1\" class=\"dataframe\">\n",
       "  <thead>\n",
       "    <tr style=\"text-align: right;\">\n",
       "      <th></th>\n",
       "      <th>Date</th>\n",
       "      <th>Open</th>\n",
       "      <th>High</th>\n",
       "      <th>Low</th>\n",
       "      <th>Close</th>\n",
       "      <th>Volume</th>\n",
       "    </tr>\n",
       "  </thead>\n",
       "  <tbody>\n",
       "    <tr>\n",
       "      <th>0</th>\n",
       "      <td>20230101 173100</td>\n",
       "      <td>0.67896</td>\n",
       "      <td>0.67942</td>\n",
       "      <td>0.67896</td>\n",
       "      <td>0.67940</td>\n",
       "      <td>0</td>\n",
       "    </tr>\n",
       "    <tr>\n",
       "      <th>1</th>\n",
       "      <td>20230101 173200</td>\n",
       "      <td>0.67941</td>\n",
       "      <td>0.67941</td>\n",
       "      <td>0.67940</td>\n",
       "      <td>0.67940</td>\n",
       "      <td>0</td>\n",
       "    </tr>\n",
       "    <tr>\n",
       "      <th>2</th>\n",
       "      <td>20230101 173300</td>\n",
       "      <td>0.67941</td>\n",
       "      <td>0.67941</td>\n",
       "      <td>0.67938</td>\n",
       "      <td>0.67940</td>\n",
       "      <td>0</td>\n",
       "    </tr>\n",
       "    <tr>\n",
       "      <th>3</th>\n",
       "      <td>20230101 173400</td>\n",
       "      <td>0.67940</td>\n",
       "      <td>0.67941</td>\n",
       "      <td>0.67940</td>\n",
       "      <td>0.67941</td>\n",
       "      <td>0</td>\n",
       "    </tr>\n",
       "    <tr>\n",
       "      <th>4</th>\n",
       "      <td>20230101 173500</td>\n",
       "      <td>0.67983</td>\n",
       "      <td>0.67983</td>\n",
       "      <td>0.67983</td>\n",
       "      <td>0.67983</td>\n",
       "      <td>0</td>\n",
       "    </tr>\n",
       "  </tbody>\n",
       "</table>\n",
       "</div>"
      ],
      "text/plain": [
       "              Date     Open     High      Low    Close  Volume\n",
       "0  20230101 173100  0.67896  0.67942  0.67896  0.67940       0\n",
       "1  20230101 173200  0.67941  0.67941  0.67940  0.67940       0\n",
       "2  20230101 173300  0.67941  0.67941  0.67938  0.67940       0\n",
       "3  20230101 173400  0.67940  0.67941  0.67940  0.67941       0\n",
       "4  20230101 173500  0.67983  0.67983  0.67983  0.67983       0"
      ]
     },
     "execution_count": 53,
     "metadata": {},
     "output_type": "execute_result"
    }
   ],
   "source": [
    "# Load the dataset\n",
    "file_path = 'Data/AUD:USD/DAT_ASCII_AUDUSD_M1_2023/DAT_ASCII_AUDUSD_M1_2023.csv'\n",
    "\n",
    "# Read the dataset\n",
    "aud_usd_2023 = pd.read_csv(file_path, sep=';', header=None, names=[\"Date\", \"Open\", \"High\", \"Low\", \"Close\", \"Volume\"])\n",
    "\n",
    "# Display the first few rows to verify the structure\n",
    "aud_usd_2023.head()"
   ]
  },
  {
   "cell_type": "code",
   "execution_count": null,
   "metadata": {},
   "outputs": [
    {
     "data": {
      "text/html": [
       "<div>\n",
       "<style scoped>\n",
       "    .dataframe tbody tr th:only-of-type {\n",
       "        vertical-align: middle;\n",
       "    }\n",
       "\n",
       "    .dataframe tbody tr th {\n",
       "        vertical-align: top;\n",
       "    }\n",
       "\n",
       "    .dataframe thead th {\n",
       "        text-align: right;\n",
       "    }\n",
       "</style>\n",
       "<table border=\"1\" class=\"dataframe\">\n",
       "  <thead>\n",
       "    <tr style=\"text-align: right;\">\n",
       "      <th></th>\n",
       "      <th>Date</th>\n",
       "      <th>Open</th>\n",
       "      <th>High</th>\n",
       "      <th>Low</th>\n",
       "      <th>Close</th>\n",
       "      <th>Volume</th>\n",
       "    </tr>\n",
       "  </thead>\n",
       "  <tbody>\n",
       "    <tr>\n",
       "      <th>0</th>\n",
       "      <td>2023-01-01 17:31:00</td>\n",
       "      <td>0.67896</td>\n",
       "      <td>0.67942</td>\n",
       "      <td>0.67896</td>\n",
       "      <td>0.67940</td>\n",
       "      <td>0</td>\n",
       "    </tr>\n",
       "    <tr>\n",
       "      <th>1</th>\n",
       "      <td>2023-01-01 17:32:00</td>\n",
       "      <td>0.67941</td>\n",
       "      <td>0.67941</td>\n",
       "      <td>0.67940</td>\n",
       "      <td>0.67940</td>\n",
       "      <td>0</td>\n",
       "    </tr>\n",
       "    <tr>\n",
       "      <th>2</th>\n",
       "      <td>2023-01-01 17:33:00</td>\n",
       "      <td>0.67941</td>\n",
       "      <td>0.67941</td>\n",
       "      <td>0.67938</td>\n",
       "      <td>0.67940</td>\n",
       "      <td>0</td>\n",
       "    </tr>\n",
       "    <tr>\n",
       "      <th>3</th>\n",
       "      <td>2023-01-01 17:34:00</td>\n",
       "      <td>0.67940</td>\n",
       "      <td>0.67941</td>\n",
       "      <td>0.67940</td>\n",
       "      <td>0.67941</td>\n",
       "      <td>0</td>\n",
       "    </tr>\n",
       "    <tr>\n",
       "      <th>4</th>\n",
       "      <td>2023-01-01 17:35:00</td>\n",
       "      <td>0.67983</td>\n",
       "      <td>0.67983</td>\n",
       "      <td>0.67983</td>\n",
       "      <td>0.67983</td>\n",
       "      <td>0</td>\n",
       "    </tr>\n",
       "  </tbody>\n",
       "</table>\n",
       "</div>"
      ],
      "text/plain": [
       "                 Date     Open     High      Low    Close  Volume\n",
       "0 2023-01-01 17:31:00  0.67896  0.67942  0.67896  0.67940       0\n",
       "1 2023-01-01 17:32:00  0.67941  0.67941  0.67940  0.67940       0\n",
       "2 2023-01-01 17:33:00  0.67941  0.67941  0.67938  0.67940       0\n",
       "3 2023-01-01 17:34:00  0.67940  0.67941  0.67940  0.67941       0\n",
       "4 2023-01-01 17:35:00  0.67983  0.67983  0.67983  0.67983       0"
      ]
     },
     "execution_count": 54,
     "metadata": {},
     "output_type": "execute_result"
    }
   ],
   "source": [
    "# Convert the Date column into a proper datetime format\n",
    "aud_usd_2023['Date'] = pd.to_datetime(aud_usd_2023['Date'], format='%Y%m%d %H%M%S')\n",
    "\n",
    "# Display the updated dataframe structure to verify the change\n",
    "aud_usd_2023.head()"
   ]
  },
  {
   "cell_type": "code",
   "execution_count": 55,
   "metadata": {},
   "outputs": [],
   "source": [
    "# Resample the data to hourly intervals\n",
    "hourly_aud_usd_2023 = aud_usd_2023.resample('H', on='Date').agg({\n",
    "    'Open': 'first',\n",
    "    'High': 'max',\n",
    "    'Low': 'min',\n",
    "    'Close': 'last',\n",
    "    'Volume': 'sum'\n",
    "}).reset_index()"
   ]
  },
  {
   "cell_type": "code",
   "execution_count": 56,
   "metadata": {},
   "outputs": [
    {
     "data": {
      "text/html": [
       "<div>\n",
       "<style scoped>\n",
       "    .dataframe tbody tr th:only-of-type {\n",
       "        vertical-align: middle;\n",
       "    }\n",
       "\n",
       "    .dataframe tbody tr th {\n",
       "        vertical-align: top;\n",
       "    }\n",
       "\n",
       "    .dataframe thead th {\n",
       "        text-align: right;\n",
       "    }\n",
       "</style>\n",
       "<table border=\"1\" class=\"dataframe\">\n",
       "  <thead>\n",
       "    <tr style=\"text-align: right;\">\n",
       "      <th></th>\n",
       "      <th>Date</th>\n",
       "      <th>Open</th>\n",
       "      <th>High</th>\n",
       "      <th>Low</th>\n",
       "      <th>Close</th>\n",
       "      <th>Volume</th>\n",
       "    </tr>\n",
       "  </thead>\n",
       "  <tbody>\n",
       "    <tr>\n",
       "      <th>0</th>\n",
       "      <td>2023-01-01 17:00:00</td>\n",
       "      <td>0.67896</td>\n",
       "      <td>0.68166</td>\n",
       "      <td>0.67896</td>\n",
       "      <td>0.68166</td>\n",
       "      <td>0</td>\n",
       "    </tr>\n",
       "    <tr>\n",
       "      <th>1</th>\n",
       "      <td>2023-01-01 18:00:00</td>\n",
       "      <td>0.68166</td>\n",
       "      <td>0.68182</td>\n",
       "      <td>0.67930</td>\n",
       "      <td>0.68131</td>\n",
       "      <td>0</td>\n",
       "    </tr>\n",
       "    <tr>\n",
       "      <th>2</th>\n",
       "      <td>2023-01-01 19:00:00</td>\n",
       "      <td>0.68124</td>\n",
       "      <td>0.68147</td>\n",
       "      <td>0.67999</td>\n",
       "      <td>0.68016</td>\n",
       "      <td>0</td>\n",
       "    </tr>\n",
       "    <tr>\n",
       "      <th>3</th>\n",
       "      <td>2023-01-01 20:00:00</td>\n",
       "      <td>0.68014</td>\n",
       "      <td>0.68091</td>\n",
       "      <td>0.68008</td>\n",
       "      <td>0.68010</td>\n",
       "      <td>0</td>\n",
       "    </tr>\n",
       "    <tr>\n",
       "      <th>4</th>\n",
       "      <td>2023-01-01 21:00:00</td>\n",
       "      <td>0.68046</td>\n",
       "      <td>0.68056</td>\n",
       "      <td>0.68013</td>\n",
       "      <td>0.68040</td>\n",
       "      <td>0</td>\n",
       "    </tr>\n",
       "  </tbody>\n",
       "</table>\n",
       "</div>"
      ],
      "text/plain": [
       "                 Date     Open     High      Low    Close  Volume\n",
       "0 2023-01-01 17:00:00  0.67896  0.68166  0.67896  0.68166       0\n",
       "1 2023-01-01 18:00:00  0.68166  0.68182  0.67930  0.68131       0\n",
       "2 2023-01-01 19:00:00  0.68124  0.68147  0.67999  0.68016       0\n",
       "3 2023-01-01 20:00:00  0.68014  0.68091  0.68008  0.68010       0\n",
       "4 2023-01-01 21:00:00  0.68046  0.68056  0.68013  0.68040       0"
      ]
     },
     "execution_count": 56,
     "metadata": {},
     "output_type": "execute_result"
    }
   ],
   "source": [
    "hourly_aud_usd_2023.head()\n"
   ]
  },
  {
   "cell_type": "code",
   "execution_count": 57,
   "metadata": {},
   "outputs": [],
   "source": [
    "# Export the resampled data to a CSV file\n",
    "hourly_aud_usd_2023.to_csv('hourly_aud_usd_2023.csv', index=False)\n"
   ]
  },
  {
   "cell_type": "markdown",
   "metadata": {},
   "source": [
    "## Combining Data"
   ]
  },
  {
   "cell_type": "code",
   "execution_count": null,
   "metadata": {},
   "outputs": [],
   "source": [
    "\n",
    "data_2013 = pd.read_csv('Data/AUD:USD/hourly_aud_usd_2013.csv')\n",
    "data_2014 = pd.read_csv('Data/AUD:USD/hourly_aud_usd_2014.csv')\n",
    "data_2015 = pd.read_csv('Data/AUD:USD/hourly_aud_usd_2015.csv')\n",
    "data_2016 = pd.read_csv('Data/AUD:USD/hourly_aud_usd_2016.csv')\n",
    "data_2017 = pd.read_csv('Data/AUD:USD/hourly_aud_usd_2017.csv')\n",
    "data_2018 = pd.read_csv('Data/AUD:USD/hourly_aud_usd_2018.csv')\n",
    "data_2019 = pd.read_csv('Data/AUD:USD/hourly_aud_usd_2019.csv')\n",
    "data_2020 = pd.read_csv('Data/AUD:USD/hourly_aud_usd_2020.csv')\n",
    "data_2021 = pd.read_csv('Data/AUD:USD/hourly_aud_usd_2021.csv')\n",
    "data_2022 = pd.read_csv('Data/AUD:USD/hourly_aud_usd_2022.csv')\n",
    "data_2023 = pd.read_csv('Data/AUD:USD/hourly_aud_usd_2023.csv')\n",
    "\n",
    "\n",
    "# Combine all datasets into one\n",
    "combined_data = pd.concat([data_2013, data_2014, data_2015, data_2016, data_2017, data_2018, data_2019, data_2020, data_2021, data_2022, data_2023], ignore_index=True)\n",
    "\n",
    "# Sort the combined dataset by the 'Date' column to ensure chronological order\n",
    "combined_data = combined_data.sort_values(by='Date').reset_index(drop=True)\n"
   ]
  },
  {
   "cell_type": "code",
   "execution_count": 59,
   "metadata": {},
   "outputs": [],
   "source": [
    "# drop missing values\n",
    "cleaned_data = combined_data.dropna()"
   ]
  },
  {
   "cell_type": "code",
   "execution_count": 60,
   "metadata": {},
   "outputs": [
    {
     "name": "stdout",
     "output_type": "stream",
     "text": [
      "<class 'pandas.core.frame.DataFrame'>\n",
      "Index: 67566 entries, 0 to 95873\n",
      "Data columns (total 6 columns):\n",
      " #   Column  Non-Null Count  Dtype  \n",
      "---  ------  --------------  -----  \n",
      " 0   Date    67566 non-null  object \n",
      " 1   Open    67566 non-null  float64\n",
      " 2   High    67566 non-null  float64\n",
      " 3   Low     67566 non-null  float64\n",
      " 4   Close   67566 non-null  float64\n",
      " 5   Volume  67566 non-null  int64  \n",
      "dtypes: float64(4), int64(1), object(1)\n",
      "memory usage: 3.6+ MB\n"
     ]
    }
   ],
   "source": [
    "cleaned_data.info()\n"
   ]
  },
  {
   "cell_type": "code",
   "execution_count": 61,
   "metadata": {},
   "outputs": [],
   "source": [
    "# Export the combined data to a CSV file\n",
    "cleaned_data.to_csv('M60_aud_usd_combined.csv', index=False)"
   ]
  }
 ],
 "metadata": {
  "kernelspec": {
   "display_name": "base",
   "language": "python",
   "name": "python3"
  },
  "language_info": {
   "codemirror_mode": {
    "name": "ipython",
    "version": 3
   },
   "file_extension": ".py",
   "mimetype": "text/x-python",
   "name": "python",
   "nbconvert_exporter": "python",
   "pygments_lexer": "ipython3",
   "version": "3.9.18"
  }
 },
 "nbformat": 4,
 "nbformat_minor": 2
}
